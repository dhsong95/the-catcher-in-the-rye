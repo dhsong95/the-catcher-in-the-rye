{
  "nbformat": 4,
  "nbformat_minor": 0,
  "metadata": {
    "colab": {
      "name": "COLAB The Catcher in the Rye.ipynb",
      "provenance": [],
      "collapsed_sections": []
    },
    "kernelspec": {
      "name": "python3",
      "display_name": "Python 3"
    },
    "accelerator": "GPU"
  },
  "cells": [
    {
      "cell_type": "code",
      "metadata": {
        "id": "HVKUHvuQxpL9",
        "colab_type": "code",
        "colab": {
          "base_uri": "https://localhost:8080/",
          "height": 122
        },
        "outputId": "ed7fa932-d058-45d1-9611-d013af4327df"
      },
      "source": [
        "from google.colab import drive\n",
        "drive.mount('/content/gdrive')"
      ],
      "execution_count": 2,
      "outputs": [
        {
          "output_type": "stream",
          "text": [
            "Go to this URL in a browser: https://accounts.google.com/o/oauth2/auth?client_id=947318989803-6bn6qk8qdgf4n4g3pfee6491hc0brc4i.apps.googleusercontent.com&redirect_uri=urn%3aietf%3awg%3aoauth%3a2.0%3aoob&scope=email%20https%3a%2f%2fwww.googleapis.com%2fauth%2fdocs.test%20https%3a%2f%2fwww.googleapis.com%2fauth%2fdrive%20https%3a%2f%2fwww.googleapis.com%2fauth%2fdrive.photos.readonly%20https%3a%2f%2fwww.googleapis.com%2fauth%2fpeopleapi.readonly&response_type=code\n",
            "\n",
            "Enter your authorization code:\n",
            "··········\n",
            "Mounted at /content/gdrive\n"
          ],
          "name": "stdout"
        }
      ]
    },
    {
      "cell_type": "code",
      "metadata": {
        "id": "6325QgvnyAFi",
        "colab_type": "code",
        "colab": {
          "base_uri": "https://localhost:8080/",
          "height": 34
        },
        "outputId": "f3677390-855c-4e12-c052-617ca5387e5d"
      },
      "source": [
        "%cd /content/gdrive/My Drive/Google Colaboratory/the-catcher-in-the-rye/"
      ],
      "execution_count": 3,
      "outputs": [
        {
          "output_type": "stream",
          "text": [
            "/content/gdrive/My Drive/Google Colaboratory/the-catcher-in-the-rye\n"
          ],
          "name": "stdout"
        }
      ]
    },
    {
      "cell_type": "code",
      "metadata": {
        "id": "n49ub-BPyDm5",
        "colab_type": "code",
        "colab": {
          "base_uri": "https://localhost:8080/",
          "height": 238
        },
        "outputId": "8b70cb18-029e-4cbb-8911-e44e36652a7a"
      },
      "source": [
        "%ls -al"
      ],
      "execution_count": 4,
      "outputs": [
        {
          "output_type": "stream",
          "text": [
            "total 34\n",
            "-rw------- 1 root root  140 Aug 14 06:33 apostrophe_dict.txt\n",
            "drwx------ 2 root root 4096 Aug 23 05:19 \u001b[0m\u001b[01;34mebook\u001b[0m/\n",
            "-rw------- 1 root root 1062 Aug  3 13:08 LICENSE\n",
            "drwx------ 2 root root 4096 Aug 23 05:19 \u001b[01;34mnltk_data\u001b[0m/\n",
            "drwx------ 2 root root 4096 Aug 23 05:19 \u001b[01;34mnotebooks\u001b[0m/\n",
            "drwx------ 2 root root 4096 Aug 23 05:19 \u001b[01;34moutput\u001b[0m/\n",
            "-rw------- 1 root root 2473 Aug 14 07:56 preprocess.py\n",
            "-rw------- 1 root root 2021 Aug  6 13:47 question1.py\n",
            "-rw------- 1 root root 4122 Aug 22 14:08 question2.py\n",
            "-rw------- 1 root root 2801 Aug 22 14:24 README.md\n",
            "-rw------- 1 root root 1879 Aug 23 05:27 requirements.txt\n",
            "-rw------- 1 root root 1303 Aug  6 13:39 utils.py\n"
          ],
          "name": "stdout"
        }
      ]
    },
    {
      "cell_type": "code",
      "metadata": {
        "id": "-a-HtkLD1QRs",
        "colab_type": "code",
        "colab": {
          "base_uri": "https://localhost:8080/",
          "height": 173
        },
        "outputId": "9b59b167-1f56-4444-c236-1e03bd95bcbc"
      },
      "source": [
        "!pip install --upgrade pip"
      ],
      "execution_count": 5,
      "outputs": [
        {
          "output_type": "stream",
          "text": [
            "Collecting pip\n",
            "\u001b[?25l  Downloading https://files.pythonhosted.org/packages/5a/4a/39400ff9b36e719bdf8f31c99fe1fa7842a42fa77432e584f707a5080063/pip-20.2.2-py2.py3-none-any.whl (1.5MB)\n",
            "\r\u001b[K     |▏                               | 10kB 23.9MB/s eta 0:00:01\r\u001b[K     |▍                               | 20kB 2.8MB/s eta 0:00:01\r\u001b[K     |▋                               | 30kB 3.8MB/s eta 0:00:01\r\u001b[K     |▉                               | 40kB 4.1MB/s eta 0:00:01\r\u001b[K     |█                               | 51kB 3.4MB/s eta 0:00:01\r\u001b[K     |█▎                              | 61kB 3.7MB/s eta 0:00:01\r\u001b[K     |█▌                              | 71kB 4.0MB/s eta 0:00:01\r\u001b[K     |█▊                              | 81kB 4.5MB/s eta 0:00:01\r\u001b[K     |██                              | 92kB 4.8MB/s eta 0:00:01\r\u001b[K     |██▏                             | 102kB 4.6MB/s eta 0:00:01\r\u001b[K     |██▍                             | 112kB 4.6MB/s eta 0:00:01\r\u001b[K     |██▋                             | 122kB 4.6MB/s eta 0:00:01\r\u001b[K     |██▉                             | 133kB 4.6MB/s eta 0:00:01\r\u001b[K     |███                             | 143kB 4.6MB/s eta 0:00:01\r\u001b[K     |███▎                            | 153kB 4.6MB/s eta 0:00:01\r\u001b[K     |███▌                            | 163kB 4.6MB/s eta 0:00:01\r\u001b[K     |███▊                            | 174kB 4.6MB/s eta 0:00:01\r\u001b[K     |████                            | 184kB 4.6MB/s eta 0:00:01\r\u001b[K     |████▏                           | 194kB 4.6MB/s eta 0:00:01\r\u001b[K     |████▍                           | 204kB 4.6MB/s eta 0:00:01\r\u001b[K     |████▋                           | 215kB 4.6MB/s eta 0:00:01\r\u001b[K     |████▉                           | 225kB 4.6MB/s eta 0:00:01\r\u001b[K     |█████                           | 235kB 4.6MB/s eta 0:00:01\r\u001b[K     |█████▎                          | 245kB 4.6MB/s eta 0:00:01\r\u001b[K     |█████▌                          | 256kB 4.6MB/s eta 0:00:01\r\u001b[K     |█████▋                          | 266kB 4.6MB/s eta 0:00:01\r\u001b[K     |█████▉                          | 276kB 4.6MB/s eta 0:00:01\r\u001b[K     |██████                          | 286kB 4.6MB/s eta 0:00:01\r\u001b[K     |██████▎                         | 296kB 4.6MB/s eta 0:00:01\r\u001b[K     |██████▌                         | 307kB 4.6MB/s eta 0:00:01\r\u001b[K     |██████▊                         | 317kB 4.6MB/s eta 0:00:01\r\u001b[K     |███████                         | 327kB 4.6MB/s eta 0:00:01\r\u001b[K     |███████▏                        | 337kB 4.6MB/s eta 0:00:01\r\u001b[K     |███████▍                        | 348kB 4.6MB/s eta 0:00:01\r\u001b[K     |███████▋                        | 358kB 4.6MB/s eta 0:00:01\r\u001b[K     |███████▉                        | 368kB 4.6MB/s eta 0:00:01\r\u001b[K     |████████                        | 378kB 4.6MB/s eta 0:00:01\r\u001b[K     |████████▎                       | 389kB 4.6MB/s eta 0:00:01\r\u001b[K     |████████▌                       | 399kB 4.6MB/s eta 0:00:01\r\u001b[K     |████████▊                       | 409kB 4.6MB/s eta 0:00:01\r\u001b[K     |█████████                       | 419kB 4.6MB/s eta 0:00:01\r\u001b[K     |█████████▏                      | 430kB 4.6MB/s eta 0:00:01\r\u001b[K     |█████████▍                      | 440kB 4.6MB/s eta 0:00:01\r\u001b[K     |█████████▋                      | 450kB 4.6MB/s eta 0:00:01\r\u001b[K     |█████████▉                      | 460kB 4.6MB/s eta 0:00:01\r\u001b[K     |██████████                      | 471kB 4.6MB/s eta 0:00:01\r\u001b[K     |██████████▎                     | 481kB 4.6MB/s eta 0:00:01\r\u001b[K     |██████████▌                     | 491kB 4.6MB/s eta 0:00:01\r\u001b[K     |██████████▊                     | 501kB 4.6MB/s eta 0:00:01\r\u001b[K     |███████████                     | 512kB 4.6MB/s eta 0:00:01\r\u001b[K     |███████████▏                    | 522kB 4.6MB/s eta 0:00:01\r\u001b[K     |███████████▎                    | 532kB 4.6MB/s eta 0:00:01\r\u001b[K     |███████████▌                    | 542kB 4.6MB/s eta 0:00:01\r\u001b[K     |███████████▊                    | 552kB 4.6MB/s eta 0:00:01\r\u001b[K     |████████████                    | 563kB 4.6MB/s eta 0:00:01\r\u001b[K     |████████████▏                   | 573kB 4.6MB/s eta 0:00:01\r\u001b[K     |████████████▍                   | 583kB 4.6MB/s eta 0:00:01\r\u001b[K     |████████████▋                   | 593kB 4.6MB/s eta 0:00:01\r\u001b[K     |████████████▉                   | 604kB 4.6MB/s eta 0:00:01\r\u001b[K     |█████████████                   | 614kB 4.6MB/s eta 0:00:01\r\u001b[K     |█████████████▎                  | 624kB 4.6MB/s eta 0:00:01\r\u001b[K     |█████████████▌                  | 634kB 4.6MB/s eta 0:00:01\r\u001b[K     |█████████████▊                  | 645kB 4.6MB/s eta 0:00:01\r\u001b[K     |██████████████                  | 655kB 4.6MB/s eta 0:00:01\r\u001b[K     |██████████████▏                 | 665kB 4.6MB/s eta 0:00:01\r\u001b[K     |██████████████▍                 | 675kB 4.6MB/s eta 0:00:01\r\u001b[K     |██████████████▋                 | 686kB 4.6MB/s eta 0:00:01\r\u001b[K     |██████████████▉                 | 696kB 4.6MB/s eta 0:00:01\r\u001b[K     |███████████████                 | 706kB 4.6MB/s eta 0:00:01\r\u001b[K     |███████████████▎                | 716kB 4.6MB/s eta 0:00:01\r\u001b[K     |███████████████▌                | 727kB 4.6MB/s eta 0:00:01\r\u001b[K     |███████████████▊                | 737kB 4.6MB/s eta 0:00:01\r\u001b[K     |████████████████                | 747kB 4.6MB/s eta 0:00:01\r\u001b[K     |████████████████▏               | 757kB 4.6MB/s eta 0:00:01\r\u001b[K     |████████████████▍               | 768kB 4.6MB/s eta 0:00:01\r\u001b[K     |████████████████▋               | 778kB 4.6MB/s eta 0:00:01\r\u001b[K     |████████████████▉               | 788kB 4.6MB/s eta 0:00:01\r\u001b[K     |█████████████████               | 798kB 4.6MB/s eta 0:00:01\r\u001b[K     |█████████████████▏              | 808kB 4.6MB/s eta 0:00:01\r\u001b[K     |█████████████████▍              | 819kB 4.6MB/s eta 0:00:01\r\u001b[K     |█████████████████▋              | 829kB 4.6MB/s eta 0:00:01\r\u001b[K     |█████████████████▉              | 839kB 4.6MB/s eta 0:00:01\r\u001b[K     |██████████████████              | 849kB 4.6MB/s eta 0:00:01\r\u001b[K     |██████████████████▎             | 860kB 4.6MB/s eta 0:00:01\r\u001b[K     |██████████████████▌             | 870kB 4.6MB/s eta 0:00:01\r\u001b[K     |██████████████████▊             | 880kB 4.6MB/s eta 0:00:01\r\u001b[K     |███████████████████             | 890kB 4.6MB/s eta 0:00:01\r\u001b[K     |███████████████████▏            | 901kB 4.6MB/s eta 0:00:01\r\u001b[K     |███████████████████▍            | 911kB 4.6MB/s eta 0:00:01\r\u001b[K     |███████████████████▋            | 921kB 4.6MB/s eta 0:00:01\r\u001b[K     |███████████████████▉            | 931kB 4.6MB/s eta 0:00:01\r\u001b[K     |████████████████████            | 942kB 4.6MB/s eta 0:00:01\r\u001b[K     |████████████████████▎           | 952kB 4.6MB/s eta 0:00:01\r\u001b[K     |████████████████████▌           | 962kB 4.6MB/s eta 0:00:01\r\u001b[K     |████████████████████▊           | 972kB 4.6MB/s eta 0:00:01\r\u001b[K     |█████████████████████           | 983kB 4.6MB/s eta 0:00:01\r\u001b[K     |█████████████████████▏          | 993kB 4.6MB/s eta 0:00:01\r\u001b[K     |█████████████████████▍          | 1.0MB 4.6MB/s eta 0:00:01\r\u001b[K     |█████████████████████▋          | 1.0MB 4.6MB/s eta 0:00:01\r\u001b[K     |█████████████████████▉          | 1.0MB 4.6MB/s eta 0:00:01\r\u001b[K     |██████████████████████          | 1.0MB 4.6MB/s eta 0:00:01\r\u001b[K     |██████████████████████▎         | 1.0MB 4.6MB/s eta 0:00:01\r\u001b[K     |██████████████████████▌         | 1.1MB 4.6MB/s eta 0:00:01\r\u001b[K     |██████████████████████▋         | 1.1MB 4.6MB/s eta 0:00:01\r\u001b[K     |██████████████████████▉         | 1.1MB 4.6MB/s eta 0:00:01\r\u001b[K     |███████████████████████         | 1.1MB 4.6MB/s eta 0:00:01\r\u001b[K     |███████████████████████▎        | 1.1MB 4.6MB/s eta 0:00:01\r\u001b[K     |███████████████████████▌        | 1.1MB 4.6MB/s eta 0:00:01\r\u001b[K     |███████████████████████▊        | 1.1MB 4.6MB/s eta 0:00:01\r\u001b[K     |████████████████████████        | 1.1MB 4.6MB/s eta 0:00:01\r\u001b[K     |████████████████████████▏       | 1.1MB 4.6MB/s eta 0:00:01\r\u001b[K     |████████████████████████▍       | 1.1MB 4.6MB/s eta 0:00:01\r\u001b[K     |████████████████████████▋       | 1.2MB 4.6MB/s eta 0:00:01\r\u001b[K     |████████████████████████▉       | 1.2MB 4.6MB/s eta 0:00:01\r\u001b[K     |█████████████████████████       | 1.2MB 4.6MB/s eta 0:00:01\r\u001b[K     |█████████████████████████▎      | 1.2MB 4.6MB/s eta 0:00:01\r\u001b[K     |█████████████████████████▌      | 1.2MB 4.6MB/s eta 0:00:01\r\u001b[K     |█████████████████████████▊      | 1.2MB 4.6MB/s eta 0:00:01\r\u001b[K     |██████████████████████████      | 1.2MB 4.6MB/s eta 0:00:01\r\u001b[K     |██████████████████████████▏     | 1.2MB 4.6MB/s eta 0:00:01\r\u001b[K     |██████████████████████████▍     | 1.2MB 4.6MB/s eta 0:00:01\r\u001b[K     |██████████████████████████▋     | 1.2MB 4.6MB/s eta 0:00:01\r\u001b[K     |██████████████████████████▉     | 1.3MB 4.6MB/s eta 0:00:01\r\u001b[K     |███████████████████████████     | 1.3MB 4.6MB/s eta 0:00:01\r\u001b[K     |███████████████████████████▎    | 1.3MB 4.6MB/s eta 0:00:01\r\u001b[K     |███████████████████████████▌    | 1.3MB 4.6MB/s eta 0:00:01\r\u001b[K     |███████████████████████████▊    | 1.3MB 4.6MB/s eta 0:00:01\r\u001b[K     |████████████████████████████    | 1.3MB 4.6MB/s eta 0:00:01\r\u001b[K     |████████████████████████████▏   | 1.3MB 4.6MB/s eta 0:00:01\r\u001b[K     |████████████████████████████▎   | 1.3MB 4.6MB/s eta 0:00:01\r\u001b[K     |████████████████████████████▌   | 1.3MB 4.6MB/s eta 0:00:01\r\u001b[K     |████████████████████████████▊   | 1.4MB 4.6MB/s eta 0:00:01\r\u001b[K     |█████████████████████████████   | 1.4MB 4.6MB/s eta 0:00:01\r\u001b[K     |█████████████████████████████▏  | 1.4MB 4.6MB/s eta 0:00:01\r\u001b[K     |█████████████████████████████▍  | 1.4MB 4.6MB/s eta 0:00:01\r\u001b[K     |█████████████████████████████▋  | 1.4MB 4.6MB/s eta 0:00:01\r\u001b[K     |█████████████████████████████▉  | 1.4MB 4.6MB/s eta 0:00:01\r\u001b[K     |██████████████████████████████  | 1.4MB 4.6MB/s eta 0:00:01\r\u001b[K     |██████████████████████████████▎ | 1.4MB 4.6MB/s eta 0:00:01\r\u001b[K     |██████████████████████████████▌ | 1.4MB 4.6MB/s eta 0:00:01\r\u001b[K     |██████████████████████████████▊ | 1.4MB 4.6MB/s eta 0:00:01\r\u001b[K     |███████████████████████████████ | 1.5MB 4.6MB/s eta 0:00:01\r\u001b[K     |███████████████████████████████▏| 1.5MB 4.6MB/s eta 0:00:01\r\u001b[K     |███████████████████████████████▍| 1.5MB 4.6MB/s eta 0:00:01\r\u001b[K     |███████████████████████████████▋| 1.5MB 4.6MB/s eta 0:00:01\r\u001b[K     |███████████████████████████████▉| 1.5MB 4.6MB/s eta 0:00:01\r\u001b[K     |████████████████████████████████| 1.5MB 4.6MB/s \n",
            "\u001b[?25hInstalling collected packages: pip\n",
            "  Found existing installation: pip 19.3.1\n",
            "    Uninstalling pip-19.3.1:\n",
            "      Successfully uninstalled pip-19.3.1\n",
            "Successfully installed pip-20.2.2\n"
          ],
          "name": "stdout"
        }
      ]
    },
    {
      "cell_type": "code",
      "metadata": {
        "id": "doM5eTKQ1kEB",
        "colab_type": "code",
        "colab": {
          "base_uri": "https://localhost:8080/",
          "height": 221
        },
        "outputId": "5f1bad52-961d-4dc4-f249-457d38fda6f7"
      },
      "source": [
        "!pip install ebooklib"
      ],
      "execution_count": 6,
      "outputs": [
        {
          "output_type": "stream",
          "text": [
            "Collecting ebooklib\n",
            "  Downloading EbookLib-0.17.1.tar.gz (111 kB)\n",
            "\u001b[?25l\r\u001b[K     |███                             | 10 kB 45.2 MB/s eta 0:00:01\r\u001b[K     |█████▉                          | 20 kB 2.9 MB/s eta 0:00:01\r\u001b[K     |████████▉                       | 30 kB 3.9 MB/s eta 0:00:01\r\u001b[K     |███████████▊                    | 40 kB 4.2 MB/s eta 0:00:01\r\u001b[K     |██████████████▊                 | 51 kB 3.4 MB/s eta 0:00:01\r\u001b[K     |█████████████████▋              | 61 kB 3.8 MB/s eta 0:00:01\r\u001b[K     |████████████████████▋           | 71 kB 4.1 MB/s eta 0:00:01\r\u001b[K     |███████████████████████▌        | 81 kB 4.5 MB/s eta 0:00:01\r\u001b[K     |██████████████████████████▍     | 92 kB 4.8 MB/s eta 0:00:01\r\u001b[K     |█████████████████████████████▍  | 102 kB 4.6 MB/s eta 0:00:01\r\u001b[K     |████████████████████████████████| 111 kB 4.6 MB/s \n",
            "\u001b[?25hRequirement already satisfied: lxml in /usr/local/lib/python3.6/dist-packages (from ebooklib) (4.2.6)\n",
            "Requirement already satisfied: six in /usr/local/lib/python3.6/dist-packages (from ebooklib) (1.15.0)\n",
            "Building wheels for collected packages: ebooklib\n",
            "  Building wheel for ebooklib (setup.py) ... \u001b[?25l\u001b[?25hdone\n",
            "  Created wheel for ebooklib: filename=EbookLib-0.17.1-py3-none-any.whl size=38164 sha256=c92d4ea62e9ab61c7479fcd1190b8f3c9ccab7bbeafc9c8a63b2cb5408a7ce0d\n",
            "  Stored in directory: /root/.cache/pip/wheels/b4/83/65/67f90f3f9cdd3eb5330e495fbbd488bc3c0854f76eed1b704c\n",
            "Successfully built ebooklib\n",
            "Installing collected packages: ebooklib\n",
            "Successfully installed ebooklib-0.17.1\n"
          ],
          "name": "stdout"
        }
      ]
    },
    {
      "cell_type": "code",
      "metadata": {
        "id": "MKivzyWEw9fX",
        "colab_type": "code",
        "colab": {}
      },
      "source": [
        "from collections import defaultdict\n",
        "import re\n",
        "\n",
        "from bs4 import BeautifulSoup\n",
        "from ebooklib import epub\n",
        "import ebooklib\n",
        "\n",
        "\n",
        "def transform_epub_to_html(epub_path):\n",
        "    book = epub.read_epub(epub_path)\n",
        "    chapters = defaultdict(str)\n",
        "    for item in book.get_items():\n",
        "        name = item.get_name()\n",
        "        if item.get_type() == ebooklib.ITEM_DOCUMENT:\n",
        "            chapters[name] = item.get_content()\n",
        "    return chapters\n",
        "\n",
        "\n",
        "def transform_html_to_text(html):\n",
        "    blacklist = [\n",
        "        '[document]', 'noscript', 'header', 'html',\n",
        "        'meta', 'head', 'input', 'script'\n",
        "    ]\n",
        "    soup = BeautifulSoup(html, 'html.parser')\n",
        "    output = ''\n",
        "    for text in soup.find_all(text=True):\n",
        "        if text.parent.name in blacklist:\n",
        "            continue\n",
        "        output += (' ' + text)\n",
        "    return output\n",
        "\n",
        "\n",
        "def load_epub(epub_path):\n",
        "    chapters = transform_epub_to_html(epub_path)\n",
        "    book = defaultdict(str)\n",
        "    for chapter, html in chapters.items():\n",
        "        chapter_found = re.search(\n",
        "            r'The_Catcher_in_the_Rye_split_([\\d]{3}).html', chapter\n",
        "        )\n",
        "        if chapter_found:\n",
        "            chapter = int(chapter_found.group(1))\n",
        "            text = transform_html_to_text(html)\n",
        "            text = re.sub(r'[\\s][\\s]+', ' ', text)\n",
        "            text = text.strip()\n",
        "            book[chapter] = text\n",
        "    return book"
      ],
      "execution_count": 7,
      "outputs": []
    },
    {
      "cell_type": "code",
      "metadata": {
        "id": "b4M0qniBxLsP",
        "colab_type": "code",
        "colab": {}
      },
      "source": [
        "from collections import Counter\n",
        "from collections import defaultdict\n",
        "import re\n",
        "\n",
        "from nltk.corpus import stopwords\n",
        "from nltk.tag import pos_tag\n",
        "from nltk.tokenize import PunktSentenceTokenizer\n",
        "from nltk.tokenize import wordpunct_tokenize\n",
        "from nltk.stem import WordNetLemmatizer\n",
        "import nltk\n",
        "import pandas as pd\n",
        "\n",
        "\n",
        "def _nltk_settings(data_path):\n",
        "    nltk.data.path.append(data_path)\n",
        "\n",
        "\n",
        "def _save_apostrophe_dataframe(book):\n",
        "    text = [t.lower() for t in book.values()]\n",
        "    text = ' '.join(text)\n",
        "    pattern = r'([\\w]*\\'[\\w]*)'\n",
        "    apostrophes = re.findall(pattern, text)\n",
        "    counter = Counter(apostrophes)\n",
        "    apostrophe_df = pd.DataFrame(\n",
        "        counter.most_common(),\n",
        "        columns=['apostrophe', 'frequency']\n",
        "    )\n",
        "\n",
        "    return apostrophe_df\n",
        "\n",
        "\n",
        "def _get_apostrophe_dict(filename):\n",
        "    with open(filename, 'r') as f:\n",
        "        apostrophe_dict = defaultdict(str)\n",
        "        for line in f.readlines():\n",
        "            src, dst = line.split('\\t')\n",
        "            apostrophe_dict[src] = dst\n",
        "    return apostrophe_dict\n",
        "\n",
        "\n",
        "def process_apostrophe(text, filename='./apostrophe_dict.txt'):\n",
        "    apostrophe_dict = _get_apostrophe_dict(filename)\n",
        "    for src, dst in apostrophe_dict.items():\n",
        "        text = text.replace(src, dst)\n",
        "    return text\n",
        "\n",
        "\n",
        "def _get_wordnet_pos(pos):\n",
        "    if pos.startswith('J'):\n",
        "        return nltk.corpus.wordnet.ADJ\n",
        "    elif pos.startswith('V'):\n",
        "        return nltk.corpus.wordnet.VERB\n",
        "    elif pos.startswith('R'):\n",
        "        return nltk.corpus.wordnet.ADV\n",
        "\n",
        "    return nltk.corpus.wordnet.NOUN\n",
        "\n",
        "\n",
        "def lemmatize_text(text):\n",
        "    lemmatizer = WordNetLemmatizer()\n",
        "    words = list()\n",
        "    for word, pos in pos_tag(wordpunct_tokenize(text)):\n",
        "        wordnet_pos = _get_wordnet_pos(pos)\n",
        "        word = lemmatizer.lemmatize(word, pos=wordnet_pos)\n",
        "        if re.match(r'[\\w]+', word):\n",
        "            words.append(word)\n",
        "    return ' '.join(words)\n",
        "\n",
        "\n",
        "def process_text_data(book):\n",
        "    _nltk_settings(data_path='./nltk_data/')\n",
        "    _save_apostrophe_dataframe(book)\n",
        "\n",
        "    book_processed = defaultdict(list)\n",
        "\n",
        "    for chapter in book.keys():\n",
        "        text = book[chapter]\n",
        "        text = text.lower()\n",
        "\n",
        "        text = process_apostrophe(text)\n",
        "        tokenizer = PunktSentenceTokenizer()\n",
        "        for sentence in tokenizer.tokenize(text):\n",
        "            sentence = lemmatize_text(sentence)\n",
        "            if len(sentence):\n",
        "                book_processed[chapter].append(sentence)\n",
        "    return book_processed\n"
      ],
      "execution_count": 8,
      "outputs": []
    },
    {
      "cell_type": "code",
      "metadata": {
        "id": "f--AmBXHxNfh",
        "colab_type": "code",
        "colab": {}
      },
      "source": [
        "epub_path = \\\n",
        "    './ebook/J. D. Salinger - The Catcher in the Rye '\\\n",
        "    '(1951, Penguin Books Ltd).epub'\n",
        "book = load_epub(epub_path)\n",
        "book = process_text_data(book)"
      ],
      "execution_count": 9,
      "outputs": []
    },
    {
      "cell_type": "code",
      "metadata": {
        "id": "dcQelBD5xOyq",
        "colab_type": "code",
        "colab": {}
      },
      "source": [
        "book[0] = [' '.join(book[0])]"
      ],
      "execution_count": 10,
      "outputs": []
    },
    {
      "cell_type": "code",
      "metadata": {
        "id": "aK3lsT_0xP93",
        "colab_type": "code",
        "colab": {
          "base_uri": "https://localhost:8080/",
          "height": 34
        },
        "outputId": "fa67e811-6a8f-4a6a-a49c-fb3cdf8ab4ff"
      },
      "source": [
        "from nltk.corpus import stopwords\n",
        "\n",
        "corpus = list()\n",
        "stopword = stopwords.words('english')\n",
        "for _, sentences in book.items():\n",
        "    for sentence in sentences:\n",
        "        stopword_removal = list()\n",
        "        for word in sentence.split():\n",
        "            if word in stopword:\n",
        "                continue\n",
        "            stopword_removal.append(word)\n",
        "        if len(stopword_removal) > 1:\n",
        "            corpus.append(' '.join(stopword_removal))\n",
        "len(corpus)"
      ],
      "execution_count": 40,
      "outputs": [
        {
          "output_type": "execute_result",
          "data": {
            "text/plain": [
              "5897"
            ]
          },
          "metadata": {
            "tags": []
          },
          "execution_count": 40
        }
      ]
    },
    {
      "cell_type": "code",
      "metadata": {
        "id": "2ISZ6JRfxRXh",
        "colab_type": "code",
        "colab": {
          "base_uri": "https://localhost:8080/",
          "height": 35
        },
        "outputId": "174eafc6-c98c-4c41-e5c4-ea2f6f8f09f2"
      },
      "source": [
        "corpus[101]"
      ],
      "execution_count": 41,
      "outputs": [
        {
          "output_type": "execute_result",
          "data": {
            "application/vnd.google.colaboratory.intrinsic+json": {
              "type": "string"
            },
            "text/plain": [
              "'even know run guess felt like'"
            ]
          },
          "metadata": {
            "tags": []
          },
          "execution_count": 41
        }
      ]
    },
    {
      "cell_type": "code",
      "metadata": {
        "id": "CL9xHzevxSZb",
        "colab_type": "code",
        "colab": {
          "base_uri": "https://localhost:8080/",
          "height": 34
        },
        "outputId": "4606454a-7270-4eb8-82cd-57ef51f7e5e3"
      },
      "source": [
        "from tensorflow.keras.preprocessing.text import Tokenizer\n",
        "\n",
        "tokenizer = Tokenizer()\n",
        "tokenizer.fit_on_texts(corpus)\n",
        "\n",
        "word2idx = tokenizer.word_index\n",
        "encoded = tokenizer.texts_to_sequences(corpus)\n",
        "\n",
        "encoded[101]"
      ],
      "execution_count": 42,
      "outputs": [
        {
          "output_type": "execute_result",
          "data": {
            "text/plain": [
              "[16, 6, 245, 219, 83, 4]"
            ]
          },
          "metadata": {
            "tags": []
          },
          "execution_count": 42
        }
      ]
    },
    {
      "cell_type": "code",
      "metadata": {
        "id": "P9tLm4vHxTex",
        "colab_type": "code",
        "colab": {
          "base_uri": "https://localhost:8080/",
          "height": 34
        },
        "outputId": "0cebd593-e6f7-41bb-cbb7-88e09a4f8e76"
      },
      "source": [
        "vocab_size = len(word2idx) + 1\n",
        "vocab_size"
      ],
      "execution_count": 43,
      "outputs": [
        {
          "output_type": "execute_result",
          "data": {
            "text/plain": [
              "3085"
            ]
          },
          "metadata": {
            "tags": []
          },
          "execution_count": 43
        }
      ]
    },
    {
      "cell_type": "code",
      "metadata": {
        "id": "ut2rE2NCxVwo",
        "colab_type": "code",
        "colab": {}
      },
      "source": [
        "from tensorflow import keras\n",
        "from tensorflow.keras import Model\n",
        "from tensorflow.keras.layers import Activation, Dot, Embedding, Reshape\n",
        "from tensorflow.keras.preprocessing.sequence import skipgrams\n",
        "from tqdm import tqdm\n",
        "import numpy as np\n",
        "\n",
        "class Word2Vec:\n",
        "    def __init__(self, vocab_size, embedding_dim=30):\n",
        "        self.model = self.build_model(vocab_size, embedding_dim)\n",
        "        self.model.compile(loss='binary_crossentropy', optimizer='adam')\n",
        "\n",
        "    def build_model(self, vocab_size, embedding_dim):\n",
        "        center_model = keras.models.Sequential()\n",
        "        context_model = keras.models.Sequential()\n",
        "\n",
        "        center_model.add(\n",
        "            Embedding(vocab_size, embedding_dim, name='embedding_center')\n",
        "        )\n",
        "        context_model.add(\n",
        "            Embedding(vocab_size, embedding_dim, name='embedding_context')\n",
        "        )\n",
        "\n",
        "        center_word = keras.Input(shape=(1,))\n",
        "        context_word = keras.Input(shape=(1,))\n",
        "\n",
        "        center_embedding = center_model(center_word)\n",
        "        context_embedding = context_model(context_word)\n",
        "\n",
        "        word2vec = keras.models.Sequential()\n",
        "        word2vec.add(Dot(axes=2, name='dot'))\n",
        "        word2vec.add(Reshape((1,), name='reshape'))\n",
        "        word2vec.add(Activation('sigmoid', name='sigmoid'))\n",
        "\n",
        "        output = word2vec([center_embedding, context_embedding])\n",
        "\n",
        "        return Model([center_word, context_word], output)\n",
        "\n",
        "    def train(self, encoded, epochs=10):\n",
        "        for epoch in range(epochs):\n",
        "            loss = 0.0\n",
        "            for sentence in tqdm(encoded):\n",
        "                sg = skipgrams(\n",
        "                    sentence, vocabulary_size=vocab_size, window_size=5\n",
        "                )\n",
        "\n",
        "                center_elem = np.array(list(zip(*sg[0]))[0])\n",
        "                context_elem = np.array(list(zip(*sg[0]))[1])\n",
        "                labels = np.array(sg[1])\n",
        "                X = [center_elem, context_elem]\n",
        "                Y = labels\n",
        "\n",
        "                loss += self.model.train_on_batch(X, Y)\n",
        "\n",
        "            print(f'Epoch : {epoch}, Loss: {loss:.4f}')"
      ],
      "execution_count": 45,
      "outputs": []
    },
    {
      "cell_type": "code",
      "metadata": {
        "id": "zFtb93mmxW5D",
        "colab_type": "code",
        "colab": {
          "base_uri": "https://localhost:8080/",
          "height": 598
        },
        "outputId": "a4284da7-4656-4753-e259-c634a2170c2e"
      },
      "source": [
        "model = Word2Vec(vocab_size=vocab_size)\n",
        "model.train(encoded, epochs=10)"
      ],
      "execution_count": 46,
      "outputs": [
        {
          "output_type": "stream",
          "text": [
            "WARNING:tensorflow:Layers in a Sequential model should only have a single input tensor, but we receive a <class 'list'> input: [<tf.Tensor 'sequential_30/embedding_center/embedding_lookup/Identity_1:0' shape=(None, 1, 30) dtype=float32>, <tf.Tensor 'sequential_31/embedding_context/embedding_lookup/Identity_1:0' shape=(None, 1, 30) dtype=float32>]\n",
            "Consider rewriting this model with the Functional API.\n"
          ],
          "name": "stdout"
        },
        {
          "output_type": "stream",
          "text": [
            "\r  0%|          | 0/5897 [00:00<?, ?it/s]"
          ],
          "name": "stderr"
        },
        {
          "output_type": "stream",
          "text": [
            "WARNING:tensorflow:Layers in a Sequential model should only have a single input tensor, but we receive a <class 'list'> input: [<tf.Tensor 'functional_21/sequential_30/embedding_center/embedding_lookup/Identity_1:0' shape=(40, 1, 30) dtype=float32>, <tf.Tensor 'functional_21/sequential_31/embedding_context/embedding_lookup/Identity_1:0' shape=(40, 1, 30) dtype=float32>]\n",
            "Consider rewriting this model with the Functional API.\n",
            "WARNING:tensorflow:Layers in a Sequential model should only have a single input tensor, but we receive a <class 'list'> input: [<tf.Tensor 'functional_21/sequential_30/embedding_center/embedding_lookup/Identity_1:0' shape=(40, 1, 30) dtype=float32>, <tf.Tensor 'functional_21/sequential_31/embedding_context/embedding_lookup/Identity_1:0' shape=(40, 1, 30) dtype=float32>]\n",
            "Consider rewriting this model with the Functional API.\n",
            "WARNING:tensorflow:5 out of the last 15 calls to <function Model.make_train_function.<locals>.train_function at 0x7f17ef417e18> triggered tf.function retracing. Tracing is expensive and the excessive number of tracings could be due to (1) creating @tf.function repeatedly in a loop, (2) passing tensors with different shapes, (3) passing Python objects instead of tensors. For (1), please define your @tf.function outside of the loop. For (2), @tf.function has experimental_relax_shapes=True option that relaxes argument shapes that can avoid unnecessary retracing. For (3), please refer to https://www.tensorflow.org/tutorials/customization/performance#python_or_tensor_args and https://www.tensorflow.org/api_docs/python/tf/function for  more details.\n"
          ],
          "name": "stdout"
        },
        {
          "output_type": "stream",
          "text": [
            "\r  0%|          | 1/5897 [00:00<41:08,  2.39it/s]"
          ],
          "name": "stderr"
        },
        {
          "output_type": "stream",
          "text": [
            "WARNING:tensorflow:Layers in a Sequential model should only have a single input tensor, but we receive a <class 'list'> input: [<tf.Tensor 'functional_21/sequential_30/embedding_center/embedding_lookup/Identity_1:0' shape=(440, 1, 30) dtype=float32>, <tf.Tensor 'functional_21/sequential_31/embedding_context/embedding_lookup/Identity_1:0' shape=(440, 1, 30) dtype=float32>]\n",
            "Consider rewriting this model with the Functional API.\n",
            "WARNING:tensorflow:6 out of the last 16 calls to <function Model.make_train_function.<locals>.train_function at 0x7f17ef417e18> triggered tf.function retracing. Tracing is expensive and the excessive number of tracings could be due to (1) creating @tf.function repeatedly in a loop, (2) passing tensors with different shapes, (3) passing Python objects instead of tensors. For (1), please define your @tf.function outside of the loop. For (2), @tf.function has experimental_relax_shapes=True option that relaxes argument shapes that can avoid unnecessary retracing. For (3), please refer to https://www.tensorflow.org/tutorials/customization/performance#python_or_tensor_args and https://www.tensorflow.org/api_docs/python/tf/function for  more details.\n"
          ],
          "name": "stdout"
        },
        {
          "output_type": "stream",
          "text": [
            "\r  0%|          | 2/5897 [00:00<36:02,  2.73it/s]"
          ],
          "name": "stderr"
        },
        {
          "output_type": "stream",
          "text": [
            "WARNING:tensorflow:Layers in a Sequential model should only have a single input tensor, but we receive a <class 'list'> input: [<tf.Tensor 'functional_21/sequential_30/embedding_center/embedding_lookup/Identity_1:0' shape=(None, 1, 30) dtype=float32>, <tf.Tensor 'functional_21/sequential_31/embedding_context/embedding_lookup/Identity_1:0' shape=(None, 1, 30) dtype=float32>]\n",
            "Consider rewriting this model with the Functional API.\n",
            "WARNING:tensorflow:6 out of the last 11 calls to <function Model.make_train_function.<locals>.train_function at 0x7f17ef417e18> triggered tf.function retracing. Tracing is expensive and the excessive number of tracings could be due to (1) creating @tf.function repeatedly in a loop, (2) passing tensors with different shapes, (3) passing Python objects instead of tensors. For (1), please define your @tf.function outside of the loop. For (2), @tf.function has experimental_relax_shapes=True option that relaxes argument shapes that can avoid unnecessary retracing. For (3), please refer to https://www.tensorflow.org/tutorials/customization/performance#python_or_tensor_args and https://www.tensorflow.org/api_docs/python/tf/function for  more details.\n"
          ],
          "name": "stdout"
        },
        {
          "output_type": "stream",
          "text": [
            "100%|██████████| 5897/5897 [00:43<00:00, 135.26it/s]\n",
            "  0%|          | 14/5897 [00:00<00:43, 134.47it/s]"
          ],
          "name": "stderr"
        },
        {
          "output_type": "stream",
          "text": [
            "Epoch : 0, Loss: 3363.1644\n"
          ],
          "name": "stdout"
        },
        {
          "output_type": "stream",
          "text": [
            "100%|██████████| 5897/5897 [00:42<00:00, 137.24it/s]\n",
            "  0%|          | 14/5897 [00:00<00:42, 139.52it/s]"
          ],
          "name": "stderr"
        },
        {
          "output_type": "stream",
          "text": [
            "Epoch : 1, Loss: 2659.7733\n"
          ],
          "name": "stdout"
        },
        {
          "output_type": "stream",
          "text": [
            "100%|██████████| 5897/5897 [00:42<00:00, 137.83it/s]\n",
            "  0%|          | 15/5897 [00:00<00:41, 141.40it/s]"
          ],
          "name": "stderr"
        },
        {
          "output_type": "stream",
          "text": [
            "Epoch : 2, Loss: 2518.4252\n"
          ],
          "name": "stdout"
        },
        {
          "output_type": "stream",
          "text": [
            "100%|██████████| 5897/5897 [00:43<00:00, 136.41it/s]\n",
            "  0%|          | 15/5897 [00:00<00:41, 140.79it/s]"
          ],
          "name": "stderr"
        },
        {
          "output_type": "stream",
          "text": [
            "Epoch : 3, Loss: 2445.7281\n"
          ],
          "name": "stdout"
        },
        {
          "output_type": "stream",
          "text": [
            "100%|██████████| 5897/5897 [00:43<00:00, 135.09it/s]\n",
            "  0%|          | 14/5897 [00:00<00:44, 130.93it/s]"
          ],
          "name": "stderr"
        },
        {
          "output_type": "stream",
          "text": [
            "Epoch : 4, Loss: 2384.0753\n"
          ],
          "name": "stdout"
        },
        {
          "output_type": "stream",
          "text": [
            "100%|██████████| 5897/5897 [00:43<00:00, 136.15it/s]\n",
            "  0%|          | 14/5897 [00:00<00:42, 136.93it/s]"
          ],
          "name": "stderr"
        },
        {
          "output_type": "stream",
          "text": [
            "Epoch : 5, Loss: 2318.6514\n"
          ],
          "name": "stdout"
        },
        {
          "output_type": "stream",
          "text": [
            "100%|██████████| 5897/5897 [00:43<00:00, 136.60it/s]\n",
            "  0%|          | 13/5897 [00:00<00:45, 129.86it/s]"
          ],
          "name": "stderr"
        },
        {
          "output_type": "stream",
          "text": [
            "Epoch : 6, Loss: 2250.1683\n"
          ],
          "name": "stdout"
        },
        {
          "output_type": "stream",
          "text": [
            "100%|██████████| 5897/5897 [00:43<00:00, 137.03it/s]\n",
            "  0%|          | 14/5897 [00:00<00:42, 137.99it/s]"
          ],
          "name": "stderr"
        },
        {
          "output_type": "stream",
          "text": [
            "Epoch : 7, Loss: 2177.2093\n"
          ],
          "name": "stdout"
        },
        {
          "output_type": "stream",
          "text": [
            "100%|██████████| 5897/5897 [00:43<00:00, 136.96it/s]\n",
            "  0%|          | 13/5897 [00:00<00:45, 128.59it/s]"
          ],
          "name": "stderr"
        },
        {
          "output_type": "stream",
          "text": [
            "Epoch : 8, Loss: 2102.2799\n"
          ],
          "name": "stdout"
        },
        {
          "output_type": "stream",
          "text": [
            "100%|██████████| 5897/5897 [00:42<00:00, 137.22it/s]"
          ],
          "name": "stderr"
        },
        {
          "output_type": "stream",
          "text": [
            "Epoch : 9, Loss: 2049.0873\n"
          ],
          "name": "stdout"
        },
        {
          "output_type": "stream",
          "text": [
            "\n"
          ],
          "name": "stderr"
        }
      ]
    },
    {
      "cell_type": "code",
      "metadata": {
        "id": "BeQg6MNALy4D",
        "colab_type": "code",
        "colab": {
          "base_uri": "https://localhost:8080/",
          "height": 34
        },
        "outputId": "301fd5f5-8ea1-41c4-e791-30a7e3840b11"
      },
      "source": [
        "model.model.get_weights()[0].shape"
      ],
      "execution_count": 49,
      "outputs": [
        {
          "output_type": "execute_result",
          "data": {
            "text/plain": [
              "(3085, 30)"
            ]
          },
          "metadata": {
            "tags": []
          },
          "execution_count": 49
        }
      ]
    },
    {
      "cell_type": "code",
      "metadata": {
        "id": "aWAn6sMiMEaj",
        "colab_type": "code",
        "colab": {}
      },
      "source": [
        "with open('output/weights/word_embedding.txt', 'w') as f:\n",
        "    vectors = model.model.get_weights()[0]\n",
        "    f.write(f'{vectors.shape[0]-1} {vectors.shape[1]}\\n')\n",
        "    for word, i in tokenizer.word_index.items():\n",
        "        word_vec = ' '.join(map(str, list(vectors[i, :])))\n",
        "        f.write(f'{word} {word_vec}\\n')"
      ],
      "execution_count": 53,
      "outputs": []
    },
    {
      "cell_type": "code",
      "metadata": {
        "id": "7JYFIF1H6NOQ",
        "colab_type": "code",
        "colab": {}
      },
      "source": [
        "import gensim"
      ],
      "execution_count": 47,
      "outputs": []
    },
    {
      "cell_type": "code",
      "metadata": {
        "id": "-xtCbQv8LwAg",
        "colab_type": "code",
        "colab": {
          "base_uri": "https://localhost:8080/",
          "height": 71
        },
        "outputId": "cde4e8b5-25f7-4611-8409-db63e373cfa8"
      },
      "source": [
        "w2v = gensim.models.KeyedVectors.load_word2vec_format('output/weights/word_embedding.txt', binary=False)"
      ],
      "execution_count": 55,
      "outputs": [
        {
          "output_type": "stream",
          "text": [
            "/usr/local/lib/python3.6/dist-packages/smart_open/smart_open_lib.py:254: UserWarning: This function is deprecated, use smart_open.open instead. See the migration notes for details: https://github.com/RaRe-Technologies/smart_open/blob/master/README.rst#migrating-to-the-new-open-function\n",
            "  'See the migration notes for details: %s' % _MIGRATION_NOTES_URL\n"
          ],
          "name": "stderr"
        }
      ]
    },
    {
      "cell_type": "code",
      "metadata": {
        "id": "BQFjSKy-Ng_B",
        "colab_type": "code",
        "colab": {
          "base_uri": "https://localhost:8080/",
          "height": 241
        },
        "outputId": "cb723ede-ce0b-42fb-b714-ab65cbf462cd"
      },
      "source": [
        "w2v.most_similar(positive=['school'])"
      ],
      "execution_count": 56,
      "outputs": [
        {
          "output_type": "stream",
          "text": [
            "/usr/local/lib/python3.6/dist-packages/gensim/matutils.py:737: FutureWarning: Conversion of the second argument of issubdtype from `int` to `np.signedinteger` is deprecated. In future, it will be treated as `np.int64 == np.dtype(int).type`.\n",
            "  if np.issubdtype(vec.dtype, np.int):\n"
          ],
          "name": "stderr"
        },
        {
          "output_type": "execute_result",
          "data": {
            "text/plain": [
              "[('insulted', 0.8151702880859375),\n",
              " ('sister', 0.8074385523796082),\n",
              " ('vocabulary', 0.7733476161956787),\n",
              " ('whooton', 0.7665121555328369),\n",
              " ('father', 0.762919545173645),\n",
              " ('louis', 0.7629117965698242),\n",
              " ('prep', 0.7627164721488953),\n",
              " ('grade', 0.7603752613067627),\n",
              " ('shaney', 0.7599301338195801),\n",
              " ('full', 0.7528494000434875)]"
            ]
          },
          "metadata": {
            "tags": []
          },
          "execution_count": 56
        }
      ]
    },
    {
      "cell_type": "code",
      "metadata": {
        "id": "jDZkLFCXNqtL",
        "colab_type": "code",
        "colab": {
          "base_uri": "https://localhost:8080/",
          "height": 241
        },
        "outputId": "2b798e23-0ece-416c-f378-86c31071ff8b"
      },
      "source": [
        "w2v.most_similar(positive=['holden'])"
      ],
      "execution_count": 70,
      "outputs": [
        {
          "output_type": "stream",
          "text": [
            "/usr/local/lib/python3.6/dist-packages/gensim/matutils.py:737: FutureWarning: Conversion of the second argument of issubdtype from `int` to `np.signedinteger` is deprecated. In future, it will be treated as `np.int64 == np.dtype(int).type`.\n",
            "  if np.issubdtype(vec.dtype, np.int):\n"
          ],
          "name": "stderr"
        },
        {
          "output_type": "execute_result",
          "data": {
            "text/plain": [
              "[('shirley', 0.7938888072967529),\n",
              " ('phoebe', 0.7632480263710022),\n",
              " ('accordingly', 0.7458309531211853),\n",
              " ('record', 0.7239189743995667),\n",
              " ('mob', 0.7231490612030029),\n",
              " ('bean', 0.7226176261901855),\n",
              " ('quarter', 0.7223073840141296),\n",
              " ('humility', 0.7200443744659424),\n",
              " ('ceety', 0.7182319164276123),\n",
              " ('beeg', 0.713215708732605)]"
            ]
          },
          "metadata": {
            "tags": []
          },
          "execution_count": 70
        }
      ]
    },
    {
      "cell_type": "code",
      "metadata": {
        "id": "z4YJ35xkNu0K",
        "colab_type": "code",
        "colab": {
          "base_uri": "https://localhost:8080/",
          "height": 241
        },
        "outputId": "3cf4496b-b695-4e7e-f402-ac765a6795ff"
      },
      "source": [
        "w2v.most_similar(positive=['ackley'])"
      ],
      "execution_count": 71,
      "outputs": [
        {
          "output_type": "stream",
          "text": [
            "/usr/local/lib/python3.6/dist-packages/gensim/matutils.py:737: FutureWarning: Conversion of the second argument of issubdtype from `int` to `np.signedinteger` is deprecated. In future, it will be treated as `np.int64 == np.dtype(int).type`.\n",
            "  if np.issubdtype(vec.dtype, np.int):\n"
          ],
          "name": "stderr"
        },
        {
          "output_type": "execute_result",
          "data": {
            "text/plain": [
              "[('besides', 0.7177923917770386),\n",
              " ('thinking', 0.717034101486206),\n",
              " ('stradlater', 0.6901248693466187),\n",
              " ('reason', 0.6392755508422852),\n",
              " ('habit', 0.6389061212539673),\n",
              " ('slap', 0.6345095038414001),\n",
              " ('wanna', 0.6211247444152832),\n",
              " ('bastard', 0.6187803745269775),\n",
              " ('marry', 0.6184471249580383),\n",
              " ('unless', 0.6175366640090942)]"
            ]
          },
          "metadata": {
            "tags": []
          },
          "execution_count": 71
        }
      ]
    },
    {
      "cell_type": "code",
      "metadata": {
        "id": "jAqjOqzpOWU_",
        "colab_type": "code",
        "colab": {
          "base_uri": "https://localhost:8080/",
          "height": 241
        },
        "outputId": "075f4bae-c391-4e98-8c68-ccdd06e46d69"
      },
      "source": [
        "w2v.most_similar(positive=['stradlater'])"
      ],
      "execution_count": 72,
      "outputs": [
        {
          "output_type": "stream",
          "text": [
            "/usr/local/lib/python3.6/dist-packages/gensim/matutils.py:737: FutureWarning: Conversion of the second argument of issubdtype from `int` to `np.signedinteger` is deprecated. In future, it will be treated as `np.int64 == np.dtype(int).type`.\n",
            "  if np.issubdtype(vec.dtype, np.int):\n"
          ],
          "name": "stderr"
        },
        {
          "output_type": "execute_result",
          "data": {
            "text/plain": [
              "[('gatsby', 0.7059965133666992),\n",
              " ('ackley', 0.6901246309280396),\n",
              " ('whistle', 0.6735602021217346),\n",
              " ('shower', 0.669865608215332),\n",
              " ('piercing', 0.6503495573997498),\n",
              " ('slob', 0.6362868547439575),\n",
              " ('reason', 0.6252253651618958),\n",
              " ('classical', 0.6125445365905762),\n",
              " ('besides', 0.601589024066925),\n",
              " ('pinscher', 0.5956303477287292)]"
            ]
          },
          "metadata": {
            "tags": []
          },
          "execution_count": 72
        }
      ]
    },
    {
      "cell_type": "code",
      "metadata": {
        "id": "HgGZ5x7yOY6H",
        "colab_type": "code",
        "colab": {
          "base_uri": "https://localhost:8080/",
          "height": 241
        },
        "outputId": "a4079eae-8cfc-466d-a839-ecedf77ca3ac"
      },
      "source": [
        "w2v.most_similar(positive=['jane'])"
      ],
      "execution_count": 74,
      "outputs": [
        {
          "output_type": "stream",
          "text": [
            "/usr/local/lib/python3.6/dist-packages/gensim/matutils.py:737: FutureWarning: Conversion of the second argument of issubdtype from `int` to `np.signedinteger` is deprecated. In future, it will be treated as `np.int64 == np.dtype(int).type`.\n",
            "  if np.issubdtype(vec.dtype, np.int):\n"
          ],
          "name": "stderr"
        },
        {
          "output_type": "execute_result",
          "data": {
            "text/plain": [
              "[('jean', 0.8745556473731995),\n",
              " ('friend', 0.6977934837341309),\n",
              " ('lining', 0.6620803475379944),\n",
              " ('extremely', 0.6562008857727051),\n",
              " ('late', 0.6530422568321228),\n",
              " ('entertain', 0.6495700478553772),\n",
              " ('4th', 0.641986608505249),\n",
              " ('either', 0.633868932723999),\n",
              " ('sure', 0.6320369243621826),\n",
              " ('license', 0.6304012537002563)]"
            ]
          },
          "metadata": {
            "tags": []
          },
          "execution_count": 74
        }
      ]
    },
    {
      "cell_type": "code",
      "metadata": {
        "id": "YwQEwXbsObsV",
        "colab_type": "code",
        "colab": {
          "base_uri": "https://localhost:8080/",
          "height": 241
        },
        "outputId": "9781c87e-992c-47e0-de71-a9635e9577a2"
      },
      "source": [
        "w2v.most_similar(positive=['caulfield'])"
      ],
      "execution_count": 77,
      "outputs": [
        {
          "output_type": "stream",
          "text": [
            "/usr/local/lib/python3.6/dist-packages/gensim/matutils.py:737: FutureWarning: Conversion of the second argument of issubdtype from `int` to `np.signedinteger` is deprecated. In future, it will be treated as `np.int64 == np.dtype(int).type`.\n",
            "  if np.issubdtype(vec.dtype, np.int):\n"
          ],
          "name": "stderr"
        },
        {
          "output_type": "execute_result",
          "data": {
            "text/plain": [
              "[('mother', 0.8288822770118713),\n",
              " ('jesus', 0.7397575378417969),\n",
              " ('oh', 0.7336921095848083),\n",
              " ('schmidt', 0.7319296598434448),\n",
              " ('4b', 0.7301366329193115),\n",
              " ('riviera', 0.7147058844566345),\n",
              " ('v', 0.7011089324951172),\n",
              " ('weatherfield', 0.696500837802887),\n",
              " ('hazel', 0.6916140913963318),\n",
              " ('slightly', 0.6782609820365906)]"
            ]
          },
          "metadata": {
            "tags": []
          },
          "execution_count": 77
        }
      ]
    },
    {
      "cell_type": "code",
      "metadata": {
        "id": "RSegwt2vOj6W",
        "colab_type": "code",
        "colab": {
          "base_uri": "https://localhost:8080/",
          "height": 241
        },
        "outputId": "80f69680-1f33-49e8-c684-03dfaa44b217"
      },
      "source": [
        "w2v.most_similar(positive=['rye'])"
      ],
      "execution_count": 80,
      "outputs": [
        {
          "output_type": "stream",
          "text": [
            "/usr/local/lib/python3.6/dist-packages/gensim/matutils.py:737: FutureWarning: Conversion of the second argument of issubdtype from `int` to `np.signedinteger` is deprecated. In future, it will be treated as `np.int64 == np.dtype(int).type`.\n",
            "  if np.issubdtype(vec.dtype, np.int):\n"
          ],
          "name": "stderr"
        },
        {
          "output_type": "execute_result",
          "data": {
            "text/plain": [
              "[('louis', 0.8116165399551392),\n",
              " ('create', 0.7826299071311951),\n",
              " ('catch', 0.7706725001335144),\n",
              " ('simple', 0.7674775719642639),\n",
              " ('stabile', 0.7590072751045227),\n",
              " ('french', 0.7546792030334473),\n",
              " ('squeal', 0.7456923723220825),\n",
              " ('sister', 0.7428297996520996),\n",
              " ('insulted', 0.7412819862365723),\n",
              " ('whooton', 0.7408576607704163)]"
            ]
          },
          "metadata": {
            "tags": []
          },
          "execution_count": 80
        }
      ]
    },
    {
      "cell_type": "code",
      "metadata": {
        "id": "SwmjDHUKOrg2",
        "colab_type": "code",
        "colab": {
          "base_uri": "https://localhost:8080/",
          "height": 241
        },
        "outputId": "1523e679-3f1c-4622-8fc6-03148f145c6a"
      },
      "source": [
        "w2v.most_similar(positive=['sister'])"
      ],
      "execution_count": 81,
      "outputs": [
        {
          "output_type": "stream",
          "text": [
            "/usr/local/lib/python3.6/dist-packages/gensim/matutils.py:737: FutureWarning: Conversion of the second argument of issubdtype from `int` to `np.signedinteger` is deprecated. In future, it will be treated as `np.int64 == np.dtype(int).type`.\n",
            "  if np.issubdtype(vec.dtype, np.int):\n"
          ],
          "name": "stderr"
        },
        {
          "output_type": "execute_result",
          "data": {
            "text/plain": [
              "[('spell', 0.8873235583305359),\n",
              " ('insulted', 0.8823113441467285),\n",
              " ('aspirin', 0.8813509345054626),\n",
              " ('wealthy', 0.8798375725746155),\n",
              " ('gentleman', 0.8622280359268188),\n",
              " ('whore', 0.8585451245307922),\n",
              " ('grade', 0.8486475944519043),\n",
              " ('tea', 0.8471783399581909),\n",
              " ('yank', 0.8442176580429077),\n",
              " ('footstep', 0.8434706926345825)]"
            ]
          },
          "metadata": {
            "tags": []
          },
          "execution_count": 81
        }
      ]
    },
    {
      "cell_type": "code",
      "metadata": {
        "id": "Q4w088cqPEa_",
        "colab_type": "code",
        "colab": {}
      },
      "source": [
        ""
      ],
      "execution_count": null,
      "outputs": []
    }
  ]
}