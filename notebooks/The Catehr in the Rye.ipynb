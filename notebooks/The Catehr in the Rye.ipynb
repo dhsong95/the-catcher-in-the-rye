{
 "metadata": {
  "language_info": {
   "codemirror_mode": {
    "name": "ipython",
    "version": 3
   },
   "file_extension": ".py",
   "mimetype": "text/x-python",
   "name": "python",
   "nbconvert_exporter": "python",
   "pygments_lexer": "ipython3",
   "version": "3.7.4-final"
  },
  "orig_nbformat": 2,
  "kernelspec": {
   "name": "python_defaultSpec_1596461518191",
   "display_name": "Python 3.7.4 64-bit ('venv': venv)"
  }
 },
 "nbformat": 4,
 "nbformat_minor": 2,
 "cells": [
  {
   "cell_type": "code",
   "execution_count": 14,
   "metadata": {
    "tags": []
   },
   "outputs": [
    {
     "output_type": "stream",
     "name": "stdout",
     "text": "9\n9\n9\n9\n9\n9\n9\n9\n9\n9\n"
    },
    {
     "output_type": "execute_result",
     "data": {
      "text/plain": "b'<?xml version=\\'1.0\\' encoding=\\'utf-8\\'?>\\n<!DOCTYPE html>\\n<html xmlns=\"http://www.w3.org/1999/xhtml\" xmlns:epub=\"http://www.idpf.org/2007/ops\" epub:prefix=\"z3998: http://www.daisy.org/z3998/2012/vocab/structure/#\" lang=\"en\" xml:lang=\"en\">\\n  <head/>\\n  <body><div class=\"calibre1\">\\n      <p class=\"calibre2\"> THE CATCHER IN THE RYE </p>\\n      <p class=\"calibre3\">by J.D. Salinger </p>\\n      <p class=\"calibre3\">TO </p>\\n      <p class=\"calibre3\">MY </p>\\n      <p class=\"calibre3\">MOTHER </p>\\n      <div class=\"mbppagebreak\" id=\"calibre_pb_0\"/>\\n    </div>\\n  </body>\\n</html>\\n'"
     },
     "metadata": {},
     "execution_count": 14
    }
   ],
   "source": [
    "import ebooklib\n",
    "from ebooklib import epub\n",
    "epub_path = '../ebook/J. D. Salinger - The Catcher in the Rye (1951, Penguin Books Ltd).epub'\n",
    "book = epub.read_epub(epub_path)\n",
    "chapters = list()\n",
    "counter = 0\n",
    "for item in book.get_items():\n",
    "    if counter < 10:\n",
    "        counter += 1\n",
    "    if item.get_type() == ebooklib.ITEM_DOCUMENT:\n",
    "        chapters.append(item.get_content())\n",
    "chapters[0]"
   ]
  },
  {
   "cell_type": "code",
   "execution_count": 21,
   "metadata": {},
   "outputs": [],
   "source": [
    "from collections import defaultdict\n",
    "\n",
    "def transform_epub_to_html(epub_path):\n",
    "    book = epub.read_epub(epub_path)\n",
    "    chapters = defaultdict(str)\n",
    "    for item in book.get_items():\n",
    "        name = item.get_name()\n",
    "        if item.get_type() == ebooklib.ITEM_DOCUMENT:\n",
    "            chapters[name] = item.get_content()\n",
    "    return chapters"
   ]
  },
  {
   "cell_type": "code",
   "execution_count": 38,
   "metadata": {},
   "outputs": [],
   "source": [
    "import re\n",
    "def transform_html_to_text(chapters):\n",
    "    blacklist = ['[document]', 'noscript', 'header', 'html', 'meta', 'head', 'input', 'script']\n",
    "    for chapter, html in chapters.items():\n",
    "        chapter_found = re.search(r'The_Catcher_in_the_Rye_split_([\\d]{3}).html', chapter)\n",
    "        if chapter_found:\n",
    "            chapter = chapter_found.group(1)\n",
    "\n",
    "            soup = BeautifulSoup(html, 'html.parser')\n",
    "            text = soup.find_all(text=True)\n",
    "            for t in text:\n",
    "                if t.parent.name not in blacklist:\n",
    "                    output += '{} '.format(t)"
   ]
  },
  {
   "cell_type": "code",
   "execution_count": 39,
   "metadata": {
    "tags": []
   },
   "outputs": [
    {
     "output_type": "error",
     "ename": "UnboundLocalError",
     "evalue": "local variable 'output' referenced before assignment",
     "traceback": [
      "\u001b[0;31m---------------------------------------------------------------------------\u001b[0m",
      "\u001b[0;31mUnboundLocalError\u001b[0m                         Traceback (most recent call last)",
      "\u001b[0;32m<ipython-input-39-0a42b8aab719>\u001b[0m in \u001b[0;36m<module>\u001b[0;34m\u001b[0m\n\u001b[0;32m----> 1\u001b[0;31m \u001b[0mtransform_html_to_text\u001b[0m\u001b[0;34m(\u001b[0m\u001b[0mchapters\u001b[0m\u001b[0;34m)\u001b[0m\u001b[0;34m\u001b[0m\u001b[0;34m\u001b[0m\u001b[0m\n\u001b[0m",
      "\u001b[0;32m<ipython-input-38-9795f063f81f>\u001b[0m in \u001b[0;36mtransform_html_to_text\u001b[0;34m(chapters)\u001b[0m\n\u001b[1;32m     11\u001b[0m             \u001b[0;32mfor\u001b[0m \u001b[0mt\u001b[0m \u001b[0;32min\u001b[0m \u001b[0mtext\u001b[0m\u001b[0;34m:\u001b[0m\u001b[0;34m\u001b[0m\u001b[0;34m\u001b[0m\u001b[0m\n\u001b[1;32m     12\u001b[0m                 \u001b[0;32mif\u001b[0m \u001b[0mt\u001b[0m\u001b[0;34m.\u001b[0m\u001b[0mparent\u001b[0m\u001b[0;34m.\u001b[0m\u001b[0mname\u001b[0m \u001b[0;32mnot\u001b[0m \u001b[0;32min\u001b[0m \u001b[0mblacklist\u001b[0m\u001b[0;34m:\u001b[0m\u001b[0;34m\u001b[0m\u001b[0;34m\u001b[0m\u001b[0m\n\u001b[0;32m---> 13\u001b[0;31m                     \u001b[0moutput\u001b[0m \u001b[0;34m+=\u001b[0m \u001b[0;34m'{} '\u001b[0m\u001b[0;34m.\u001b[0m\u001b[0mformat\u001b[0m\u001b[0;34m(\u001b[0m\u001b[0mt\u001b[0m\u001b[0;34m)\u001b[0m\u001b[0;34m\u001b[0m\u001b[0;34m\u001b[0m\u001b[0m\n\u001b[0m",
      "\u001b[0;31mUnboundLocalError\u001b[0m: local variable 'output' referenced before assignment"
     ]
    }
   ],
   "source": [
    "transform_html_to_text(chapters)"
   ]
  },
  {
   "cell_type": "code",
   "execution_count": 26,
   "metadata": {},
   "outputs": [
    {
     "output_type": "execute_result",
     "data": {
      "text/plain": "dict_keys(['The_Catcher_in_the_Rye_split_000.html', 'The_Catcher_in_the_Rye_split_001.html', 'The_Catcher_in_the_Rye_split_002.html', 'The_Catcher_in_the_Rye_split_003.html', 'The_Catcher_in_the_Rye_split_004.html', 'The_Catcher_in_the_Rye_split_005.html', 'The_Catcher_in_the_Rye_split_006.html', 'The_Catcher_in_the_Rye_split_007.html', 'The_Catcher_in_the_Rye_split_008.html', 'The_Catcher_in_the_Rye_split_009.html', 'The_Catcher_in_the_Rye_split_010.html', 'The_Catcher_in_the_Rye_split_011.html', 'The_Catcher_in_the_Rye_split_012.html', 'The_Catcher_in_the_Rye_split_013.html', 'The_Catcher_in_the_Rye_split_014.html', 'The_Catcher_in_the_Rye_split_015.html', 'The_Catcher_in_the_Rye_split_016.html', 'The_Catcher_in_the_Rye_split_017.html', 'The_Catcher_in_the_Rye_split_018.html', 'The_Catcher_in_the_Rye_split_019.html', 'The_Catcher_in_the_Rye_split_020.html', 'The_Catcher_in_the_Rye_split_021.html', 'The_Catcher_in_the_Rye_split_022.html', 'The_Catcher_in_the_Rye_split_023.html', 'The_Catcher_in_the_Rye_split_024.html', 'The_Catcher_in_the_Rye_split_025.html', 'The_Catcher_in_the_Rye_split_026.html', 'titlepage.xhtml'])"
     },
     "metadata": {},
     "execution_count": 26
    }
   ],
   "source": [
    "epub_path = '../ebook/J. D. Salinger - The Catcher in the Rye (1951, Penguin Books Ltd).epub'\n",
    "chapters = transform_epub_to_html(epub_path)\n",
    "chapters.keys()"
   ]
  },
  {
   "cell_type": "code",
   "execution_count": 8,
   "metadata": {
    "tags": []
   },
   "outputs": [
    {
     "output_type": "execute_result",
     "data": {
      "text/plain": "'\\n  THE CATCHER IN THE RYE  \\n by J.D. Salinger  \\n TO  \\n MY  \\n MOTHER  \\n \\n \\n '"
     },
     "metadata": {},
     "execution_count": 8
    }
   ],
   "source": [
    "from bs4 import BeautifulSoup\n",
    "blacklist = ['[document]', 'noscript', 'header', 'html', 'meta', 'head', 'input', 'script']\n",
    "output = ''\n",
    "soup = BeautifulSoup(chapters[0], 'html.parser')\n",
    "text = soup.find_all(text=True)\n",
    "for t in text:\n",
    "    if t.parent.name not in blacklist:\n",
    "        output += '{} '.format(t)"
   ]
  },
  {
   "cell_type": "code",
   "execution_count": null,
   "metadata": {},
   "outputs": [],
   "source": []
  }
 ]
}